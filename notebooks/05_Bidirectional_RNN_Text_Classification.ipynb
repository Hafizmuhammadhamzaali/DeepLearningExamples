{
 "cells": [
  {
   "cell_type": "code",
   "execution_count": 1,
   "metadata": {},
   "outputs": [],
   "source": [
    "import json\n",
    "\n",
    "import matplotlib.pyplot as plt\n",
    "import pandas as pd\n",
    "from sklearn.preprocessing import LabelEncoder\n",
    "from tensorflow import keras\n",
    "from tensorflow.keras import layers\n",
    "from tensorflow.keras.models import Sequential\n",
    "from tensorflow.keras.preprocessing.sequence import pad_sequences\n",
    "from tensorflow.keras.preprocessing.text import Tokenizer\n",
    "from tensorflow.keras.utils import to_categorical"
   ]
  },
  {
   "cell_type": "code",
   "execution_count": 2,
   "metadata": {},
   "outputs": [],
   "source": [
    "with open(\"../data/clinc150_full.json\", \"r\") as read_file:\n",
    "    datajson = json.load(read_file)\n",
    "\n",
    "df_train = pd.DataFrame(datajson['train'], columns=['Text', 'Class'])\n",
    "df_val = pd.DataFrame(datajson['val'], columns=['Text', 'Class'])"
   ]
  },
  {
   "cell_type": "code",
   "execution_count": 3,
   "metadata": {},
   "outputs": [],
   "source": [
    "maxlen = 100\n",
    "training_samples = df_train.shape[0]\n",
    "validation_samples = df_val.shape[0]\n",
    "max_words = 1000\n",
    "num_classes = len(df_train.Class.unique())"
   ]
  },
  {
   "cell_type": "code",
   "execution_count": 4,
   "metadata": {},
   "outputs": [],
   "source": [
    "tokenizer = Tokenizer(num_words=max_words)\n",
    "tokenizer.fit_on_texts(df_train.Text)\n",
    "\n",
    "sequences_train = tokenizer.texts_to_sequences(df_train.Text)\n",
    "sequences_valid = tokenizer.texts_to_sequences(df_val.Text)\n",
    "\n",
    "x_train = pad_sequences(sequences_train, maxlen=maxlen)\n",
    "x_valid = pad_sequences(sequences_valid, maxlen=maxlen)\n",
    "\n",
    "y_train = df_train.Class.values\n",
    "y_valid = df_val.Class.values"
   ]
  },
  {
   "cell_type": "code",
   "execution_count": 5,
   "metadata": {},
   "outputs": [],
   "source": [
    "encoder = LabelEncoder()\n",
    "encoder.fit(y_train)\n",
    "encoded_y_train = encoder.transform(y_train)\n",
    "encoded_y_valid = encoder.transform(y_valid)\n",
    "\n",
    "dummy_y_train = to_categorical(encoded_y_train)\n",
    "dummy_y_valid = to_categorical(encoded_y_valid)"
   ]
  },
  {
   "cell_type": "code",
   "execution_count": 6,
   "metadata": {},
   "outputs": [
    {
     "name": "stdout",
     "output_type": "stream",
     "text": [
      "Model: \"sequential\"\n",
      "_________________________________________________________________\n",
      "Layer (type)                 Output Shape              Param #   \n",
      "=================================================================\n",
      "embedding (Embedding)        (None, None, 32)          32000     \n",
      "_________________________________________________________________\n",
      "bidirectional (Bidirectional (None, 64)                4160      \n",
      "_________________________________________________________________\n",
      "dense (Dense)                (None, 150)               9750      \n",
      "=================================================================\n",
      "Total params: 45,910\n",
      "Trainable params: 45,910\n",
      "Non-trainable params: 0\n",
      "_________________________________________________________________\n"
     ]
    }
   ],
   "source": [
    "model = Sequential()\n",
    "model.add(layers.Embedding(max_words, output_dim=32))\n",
    "model.add(layers.Bidirectional(layers.SimpleRNN(32)))\n",
    "model.add(layers.Dense(num_classes, activation=\"softmax\"))\n",
    "model.summary()"
   ]
  },
  {
   "cell_type": "code",
   "execution_count": 7,
   "metadata": {},
   "outputs": [
    {
     "name": "stdout",
     "output_type": "stream",
     "text": [
      "Epoch 1/100\n",
      "118/118 [==============================] - 5s 40ms/step - loss: 4.7197 - accuracy: 0.0537 - val_loss: 4.3593 - val_accuracy: 0.1193\n",
      "Epoch 2/100\n",
      "118/118 [==============================] - 5s 40ms/step - loss: 3.8399 - accuracy: 0.2223 - val_loss: 3.5532 - val_accuracy: 0.2357\n",
      "Epoch 3/100\n",
      "118/118 [==============================] - 4s 36ms/step - loss: 3.0324 - accuracy: 0.3641 - val_loss: 2.9644 - val_accuracy: 0.3590\n",
      "Epoch 4/100\n",
      "118/118 [==============================] - 4s 37ms/step - loss: 2.4597 - accuracy: 0.4999 - val_loss: 2.5364 - val_accuracy: 0.4603\n",
      "Epoch 5/100\n",
      "118/118 [==============================] - 4s 36ms/step - loss: 2.0183 - accuracy: 0.5898 - val_loss: 2.1628 - val_accuracy: 0.5473\n",
      "Epoch 6/100\n",
      "118/118 [==============================] - 5s 39ms/step - loss: 1.7004 - accuracy: 0.6500 - val_loss: 2.0035 - val_accuracy: 0.5640\n",
      "Epoch 7/100\n",
      "118/118 [==============================] - 4s 38ms/step - loss: 1.4569 - accuracy: 0.6979 - val_loss: 1.8247 - val_accuracy: 0.5977\n",
      "Epoch 8/100\n",
      "118/118 [==============================] - 5s 39ms/step - loss: 1.2885 - accuracy: 0.7266 - val_loss: 1.6366 - val_accuracy: 0.6380\n",
      "Epoch 9/100\n",
      "118/118 [==============================] - 5s 39ms/step - loss: 1.1478 - accuracy: 0.7533 - val_loss: 1.7044 - val_accuracy: 0.6197\n",
      "Epoch 10/100\n",
      "118/118 [==============================] - 5s 40ms/step - loss: 1.0762 - accuracy: 0.7658 - val_loss: 1.5079 - val_accuracy: 0.6593\n",
      "Epoch 11/100\n",
      "118/118 [==============================] - 5s 42ms/step - loss: 0.9649 - accuracy: 0.7909 - val_loss: 1.4874 - val_accuracy: 0.6713\n",
      "Epoch 12/100\n",
      "118/118 [==============================] - 5s 40ms/step - loss: 0.9096 - accuracy: 0.7977 - val_loss: 1.3812 - val_accuracy: 0.6913\n",
      "Epoch 13/100\n",
      "118/118 [==============================] - 5s 39ms/step - loss: 0.8104 - accuracy: 0.8231 - val_loss: 1.3363 - val_accuracy: 0.6920\n",
      "Epoch 14/100\n",
      "118/118 [==============================] - 5s 39ms/step - loss: 0.7494 - accuracy: 0.8371 - val_loss: 1.2827 - val_accuracy: 0.7100\n",
      "Epoch 15/100\n",
      "118/118 [==============================] - 5s 39ms/step - loss: 0.6963 - accuracy: 0.8482 - val_loss: 1.2434 - val_accuracy: 0.7183\n",
      "Epoch 16/100\n",
      "118/118 [==============================] - 5s 38ms/step - loss: 0.6528 - accuracy: 0.8566 - val_loss: 1.2808 - val_accuracy: 0.7250\n",
      "Epoch 17/100\n",
      "118/118 [==============================] - 4s 38ms/step - loss: 0.6180 - accuracy: 0.8633 - val_loss: 1.2048 - val_accuracy: 0.7293\n",
      "Epoch 18/100\n",
      "118/118 [==============================] - 4s 38ms/step - loss: 0.5837 - accuracy: 0.8707 - val_loss: 1.1982 - val_accuracy: 0.7350\n",
      "Epoch 19/100\n",
      "118/118 [==============================] - 4s 38ms/step - loss: 0.5555 - accuracy: 0.8780 - val_loss: 1.1784 - val_accuracy: 0.7420\n",
      "Epoch 20/100\n",
      "118/118 [==============================] - 4s 38ms/step - loss: 0.5340 - accuracy: 0.8809 - val_loss: 1.1721 - val_accuracy: 0.7380\n",
      "Epoch 21/100\n",
      "118/118 [==============================] - 4s 37ms/step - loss: 0.4999 - accuracy: 0.8876 - val_loss: 1.1572 - val_accuracy: 0.7427\n",
      "Epoch 22/100\n",
      "118/118 [==============================] - 4s 37ms/step - loss: 0.4714 - accuracy: 0.8941 - val_loss: 1.1823 - val_accuracy: 0.7327\n",
      "Epoch 23/100\n",
      "118/118 [==============================] - 5s 41ms/step - loss: 0.4526 - accuracy: 0.8997 - val_loss: 1.1560 - val_accuracy: 0.7437\n",
      "Epoch 24/100\n",
      "118/118 [==============================] - 4s 38ms/step - loss: 0.4463 - accuracy: 0.9002 - val_loss: 1.1088 - val_accuracy: 0.7530\n",
      "Epoch 25/100\n",
      "118/118 [==============================] - 4s 37ms/step - loss: 0.4289 - accuracy: 0.9017 - val_loss: 1.0930 - val_accuracy: 0.7513\n",
      "Epoch 26/100\n",
      "118/118 [==============================] - 5s 39ms/step - loss: 0.4006 - accuracy: 0.9111 - val_loss: 1.1311 - val_accuracy: 0.7430\n",
      "Epoch 27/100\n",
      "118/118 [==============================] - 5s 39ms/step - loss: 0.3820 - accuracy: 0.9138 - val_loss: 1.1309 - val_accuracy: 0.7513\n",
      "Epoch 28/100\n",
      "118/118 [==============================] - 5s 39ms/step - loss: 0.3699 - accuracy: 0.9156 - val_loss: 1.0995 - val_accuracy: 0.7600\n",
      "Epoch 29/100\n",
      "118/118 [==============================] - 5s 38ms/step - loss: 0.3623 - accuracy: 0.9206 - val_loss: 1.0785 - val_accuracy: 0.7647\n",
      "Epoch 30/100\n",
      "118/118 [==============================] - 5s 46ms/step - loss: 0.3614 - accuracy: 0.9160 - val_loss: 1.1087 - val_accuracy: 0.7627\n",
      "Epoch 31/100\n",
      "118/118 [==============================] - 5s 42ms/step - loss: 0.3465 - accuracy: 0.9206 - val_loss: 1.0568 - val_accuracy: 0.7727\n",
      "Epoch 32/100\n",
      "118/118 [==============================] - 5s 42ms/step - loss: 0.3181 - accuracy: 0.9285 - val_loss: 1.0511 - val_accuracy: 0.7730\n",
      "Epoch 33/100\n",
      "118/118 [==============================] - 5s 40ms/step - loss: 0.3051 - accuracy: 0.9312 - val_loss: 1.0926 - val_accuracy: 0.7633\n",
      "Epoch 34/100\n",
      "118/118 [==============================] - 5s 40ms/step - loss: 0.2969 - accuracy: 0.9335 - val_loss: 1.0669 - val_accuracy: 0.7677\n",
      "Epoch 35/100\n",
      "118/118 [==============================] - 5s 41ms/step - loss: 0.2899 - accuracy: 0.9341 - val_loss: 1.1008 - val_accuracy: 0.7603\n",
      "Epoch 36/100\n",
      "118/118 [==============================] - 5s 44ms/step - loss: 0.2904 - accuracy: 0.9335 - val_loss: 1.0730 - val_accuracy: 0.7720\n",
      "Epoch 37/100\n",
      "118/118 [==============================] - 5s 43ms/step - loss: 0.2785 - accuracy: 0.9351 - val_loss: 1.0521 - val_accuracy: 0.7773\n"
     ]
    }
   ],
   "source": [
    "model.compile(loss='categorical_crossentropy', optimizer='adam', metrics=['accuracy'])\n",
    "\n",
    "history = model.fit(x_train,\n",
    "                    dummy_y_train,\n",
    "                    batch_size=128,\n",
    "                    epochs=100,\n",
    "                    validation_data=(x_valid, dummy_y_valid),\n",
    "                    callbacks=[keras.callbacks.EarlyStopping(patience=5)])"
   ]
  },
  {
   "cell_type": "code",
   "execution_count": 8,
   "metadata": {},
   "outputs": [
    {
     "data": {
      "image/png": "[encoded data removed]",
      "text/plain": [
       "<Figure size 432x288 with 1 Axes>"
      ]
     },
     "metadata": {
      "needs_background": "light"
     },
     "output_type": "display_data"
    }
   ],
   "source": [
    "plt.plot(history.history['accuracy'])\n",
    "plt.plot(history.history['val_accuracy'])\n",
    "plt.title('Model Performance')\n",
    "plt.ylabel('accuracy')\n",
    "plt.xlabel('epoch')\n",
    "plt.legend(['train', 'val'], loc='upper left')\n",
    "plt.show()"
   ]
  }
 ],
 "metadata": {
  "kernelspec": {
   "display_name": "Python 3",
   "language": "python",
   "name": "python3"
  },
  "language_info": {
   "codemirror_mode": {
    "name": "ipython",
    "version": 3
   },
   "file_extension": ".py",
   "mimetype": "text/x-python",
   "name": "python",
   "nbconvert_exporter": "python",
   "pygments_lexer": "ipython3",
   "version": "3.8.3"
  }
 },
 "nbformat": 4,
 "nbformat_minor": 4
}
