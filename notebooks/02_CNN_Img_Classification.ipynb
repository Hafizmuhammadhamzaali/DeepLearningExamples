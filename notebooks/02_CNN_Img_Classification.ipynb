{
 "cells": [
  {
   "cell_type": "code",
   "execution_count": 1,
   "metadata": {},
   "outputs": [],
   "source": [
    "# I got an error on my system when I try to train this neural net\n",
    "# `Error #15: Initializing libiomp5.dylib, but found libomp.dylib already initialized`\n",
    "# Solution: https://stackoverflow.com/questions/53014306/error-15-initializing-libiomp5-dylib-but-found-libiomp5-dylib-already-initial\n",
    "import os\n",
    "\n",
    "os.environ['KMP_DUPLICATE_LIB_OK'] = 'True'"
   ]
  },
  {
   "cell_type": "code",
   "execution_count": 2,
   "metadata": {},
   "outputs": [],
   "source": [
    "from tensorflow import keras\n",
    "from tensorflow.keras import layers\n",
    "from tensorflow.keras.preprocessing.image import ImageDataGenerator\n",
    "import matplotlib.pyplot as plt"
   ]
  },
  {
   "cell_type": "code",
   "execution_count": 3,
   "metadata": {},
   "outputs": [
    {
     "name": "stdout",
     "output_type": "stream",
     "text": [
      "Found 540 images belonging to 4 classes.\n",
      "Found 585 images belonging to 4 classes.\n"
     ]
    }
   ],
   "source": [
    "datagen = ImageDataGenerator(rotation_range=40,\n",
    "                             width_shift_range=0.2,\n",
    "                             height_shift_range=0.2,\n",
    "                             shear_range=0.2,\n",
    "                             zoom_range=0.2,\n",
    "                             fill_mode='nearest')\n",
    "\n",
    "train_it = datagen.flow_from_directory('../data/weather/train/',\n",
    "                                       target_size=(128, 128),\n",
    "                                       color_mode='rgb',\n",
    "                                       class_mode='categorical',\n",
    "                                       batch_size=16)\n",
    "valid_it = datagen.flow_from_directory('../data/weather/validation/',\n",
    "                                       target_size=(128, 128),\n",
    "                                       color_mode='rgb',\n",
    "                                       class_mode='categorical',\n",
    "                                       batch_size=16)"
   ]
  },
  {
   "cell_type": "code",
   "execution_count": 4,
   "metadata": {},
   "outputs": [
    {
     "name": "stdout",
     "output_type": "stream",
     "text": [
      "Model: \"sequential\"\n",
      "_________________________________________________________________\n",
      "Layer (type)                 Output Shape              Param #   \n",
      "=================================================================\n",
      "conv2d (Conv2D)              (None, 126, 126, 32)      896       \n",
      "_________________________________________________________________\n",
      "max_pooling2d (MaxPooling2D) (None, 63, 63, 32)        0         \n",
      "_________________________________________________________________\n",
      "conv2d_1 (Conv2D)            (None, 61, 61, 64)        18496     \n",
      "_________________________________________________________________\n",
      "max_pooling2d_1 (MaxPooling2 (None, 30, 30, 64)        0         \n",
      "_________________________________________________________________\n",
      "conv2d_2 (Conv2D)            (None, 28, 28, 64)        36928     \n",
      "_________________________________________________________________\n",
      "max_pooling2d_2 (MaxPooling2 (None, 14, 14, 64)        0         \n",
      "_________________________________________________________________\n",
      "conv2d_3 (Conv2D)            (None, 10, 10, 64)        102464    \n",
      "_________________________________________________________________\n",
      "flatten (Flatten)            (None, 6400)              0         \n",
      "_________________________________________________________________\n",
      "dense (Dense)                (None, 32)                204832    \n",
      "_________________________________________________________________\n",
      "dense_1 (Dense)              (None, 4)                 132       \n",
      "=================================================================\n",
      "Total params: 363,748\n",
      "Trainable params: 363,748\n",
      "Non-trainable params: 0\n",
      "_________________________________________________________________\n"
     ]
    }
   ],
   "source": [
    "model = keras.Sequential()\n",
    "model.add(layers.Conv2D(32, (3, 3), activation='relu', input_shape=(128, 128, 3)))\n",
    "model.add(layers.MaxPooling2D((2, 2)))\n",
    "model.add(layers.Conv2D(64, (3, 3), activation='relu'))\n",
    "model.add(layers.MaxPooling2D((2, 2)))\n",
    "model.add(layers.Conv2D(64, (3, 3), activation='relu'))\n",
    "model.add(layers.MaxPooling2D((2, 2)))\n",
    "model.add(layers.Conv2D(64, (5, 5), activation='relu'))\n",
    "model.add(layers.Flatten())\n",
    "model.add(layers.Dense(32, activation='relu'))\n",
    "model.add(layers.Dense(4))\n",
    "model.summary()"
   ]
  },
  {
   "cell_type": "code",
   "execution_count": 5,
   "metadata": {},
   "outputs": [
    {
     "name": "stdout",
     "output_type": "stream",
     "text": [
      "Epoch 1/50\n",
      "34/34 [==============================] - 14s 426ms/step - loss: 4.0136 - accuracy: 0.4500 - val_loss: 0.8083 - val_accuracy: 0.6479\n",
      "Epoch 2/50\n",
      "34/34 [==============================] - 15s 427ms/step - loss: 0.8953 - accuracy: 0.6093 - val_loss: 0.8609 - val_accuracy: 0.6427\n",
      "Epoch 3/50\n",
      "34/34 [==============================] - 15s 444ms/step - loss: 0.9239 - accuracy: 0.5870 - val_loss: 0.8887 - val_accuracy: 0.7419\n",
      "Epoch 4/50\n",
      "34/34 [==============================] - 16s 470ms/step - loss: 0.8117 - accuracy: 0.6759 - val_loss: 4.9008 - val_accuracy: 0.5111\n",
      "Epoch 5/50\n",
      "34/34 [==============================] - 14s 424ms/step - loss: 1.3808 - accuracy: 0.4685 - val_loss: 1.3683 - val_accuracy: 0.6308\n",
      "Epoch 6/50\n",
      "34/34 [==============================] - 14s 418ms/step - loss: 1.0569 - accuracy: 0.4537 - val_loss: 1.0543 - val_accuracy: 0.6222\n",
      "Epoch 7/50\n",
      "34/34 [==============================] - 14s 420ms/step - loss: 0.9544 - accuracy: 0.5037 - val_loss: 1.0127 - val_accuracy: 0.5248\n",
      "Epoch 8/50\n",
      "34/34 [==============================] - 14s 420ms/step - loss: 0.9352 - accuracy: 0.5148 - val_loss: 0.9248 - val_accuracy: 0.4974\n",
      "Epoch 9/50\n",
      "34/34 [==============================] - 14s 419ms/step - loss: 0.9012 - accuracy: 0.5296 - val_loss: 0.8437 - val_accuracy: 0.5248\n",
      "Epoch 10/50\n",
      "34/34 [==============================] - 14s 411ms/step - loss: 0.8978 - accuracy: 0.5241 - val_loss: 0.8013 - val_accuracy: 0.6171\n",
      "Epoch 11/50\n",
      "34/34 [==============================] - 14s 418ms/step - loss: 0.8918 - accuracy: 0.5611 - val_loss: 1.1415 - val_accuracy: 0.5436\n",
      "Epoch 12/50\n",
      "34/34 [==============================] - 14s 415ms/step - loss: 0.8683 - accuracy: 0.5556 - val_loss: 0.8510 - val_accuracy: 0.5470\n",
      "Epoch 13/50\n",
      "34/34 [==============================] - 14s 417ms/step - loss: 0.8602 - accuracy: 0.5500 - val_loss: 1.2307 - val_accuracy: 0.5350\n",
      "Epoch 14/50\n",
      "34/34 [==============================] - 14s 415ms/step - loss: 0.9108 - accuracy: 0.5685 - val_loss: 1.4301 - val_accuracy: 0.5744\n",
      "Epoch 15/50\n",
      "34/34 [==============================] - 14s 424ms/step - loss: 0.9483 - accuracy: 0.5722 - val_loss: 0.9088 - val_accuracy: 0.6462\n",
      "Epoch 16/50\n",
      "34/34 [==============================] - 14s 410ms/step - loss: 0.8756 - accuracy: 0.5778 - val_loss: 0.9221 - val_accuracy: 0.5470\n",
      "Epoch 17/50\n",
      "34/34 [==============================] - 14s 415ms/step - loss: 0.9338 - accuracy: 0.5500 - val_loss: 0.8317 - val_accuracy: 0.6906\n",
      "Epoch 18/50\n",
      "34/34 [==============================] - 14s 420ms/step - loss: 0.8654 - accuracy: 0.5667 - val_loss: 0.7751 - val_accuracy: 0.5949\n",
      "Epoch 19/50\n",
      "34/34 [==============================] - 14s 425ms/step - loss: 1.0926 - accuracy: 0.5481 - val_loss: 1.1030 - val_accuracy: 0.4872\n",
      "Epoch 20/50\n",
      "34/34 [==============================] - 14s 425ms/step - loss: 1.1671 - accuracy: 0.4333 - val_loss: 1.1357 - val_accuracy: 0.4684\n",
      "Epoch 21/50\n",
      "34/34 [==============================] - 14s 419ms/step - loss: 1.1422 - accuracy: 0.4574 - val_loss: 1.1184 - val_accuracy: 0.5077\n",
      "Epoch 22/50\n",
      "34/34 [==============================] - 14s 413ms/step - loss: 1.0782 - accuracy: 0.4963 - val_loss: 1.6685 - val_accuracy: 0.5863\n",
      "Epoch 23/50\n",
      "34/34 [==============================] - 14s 413ms/step - loss: 1.1706 - accuracy: 0.4722 - val_loss: 1.3357 - val_accuracy: 0.5060\n",
      "Epoch 24/50\n",
      "34/34 [==============================] - 15s 455ms/step - loss: 1.0760 - accuracy: 0.4815 - val_loss: 1.9761 - val_accuracy: 0.5726\n",
      "Epoch 25/50\n",
      "34/34 [==============================] - 14s 425ms/step - loss: 1.0697 - accuracy: 0.4926 - val_loss: 1.4457 - val_accuracy: 0.5231\n",
      "Epoch 26/50\n",
      "34/34 [==============================] - 15s 428ms/step - loss: 1.0698 - accuracy: 0.4815 - val_loss: 4.8969 - val_accuracy: 0.5932\n",
      "Epoch 27/50\n",
      "34/34 [==============================] - 15s 438ms/step - loss: 1.0693 - accuracy: 0.5093 - val_loss: 1.4170 - val_accuracy: 0.5128\n",
      "Epoch 28/50\n",
      "34/34 [==============================] - 15s 427ms/step - loss: 1.1568 - accuracy: 0.4241 - val_loss: 1.5217 - val_accuracy: 0.5453\n"
     ]
    }
   ],
   "source": [
    "model.compile(optimizer='adam',\n",
    "              loss=keras.losses.CategoricalCrossentropy(from_logits=True),\n",
    "              metrics=['accuracy'])\n",
    "\n",
    "history = model.fit(train_it,\n",
    "                    steps_per_epoch=len(train_it),\n",
    "                    validation_data=valid_it,\n",
    "                    validation_steps=len(valid_it),\n",
    "                    epochs=50,\n",
    "                    callbacks=[keras.callbacks.EarlyStopping(patience=10)])"
   ]
  },
  {
   "cell_type": "code",
   "execution_count": 6,
   "metadata": {},
   "outputs": [
    {
     "data": {
      "image/png": "[encoded data removed]",
      "text/plain": [
       "<Figure size 432x288 with 1 Axes>"
      ]
     },
     "metadata": {
      "needs_background": "light"
     },
     "output_type": "display_data"
    }
   ],
   "source": [
    "plt.plot(history.history['accuracy'])\n",
    "plt.plot(history.history['val_accuracy'])\n",
    "plt.title('Model Performance')\n",
    "plt.ylabel('accuracy')\n",
    "plt.xlabel('epoch')\n",
    "plt.legend(['train', 'val'], loc='upper left')\n",
    "plt.show()"
   ]
  }
 ],
 "metadata": {
  "kernelspec": {
   "display_name": "Python 3",
   "language": "python",
   "name": "python3"
  },
  "language_info": {
   "codemirror_mode": {
    "name": "ipython",
    "version": 3
   },
   "file_extension": ".py",
   "mimetype": "text/x-python",
   "name": "python",
   "nbconvert_exporter": "python",
   "pygments_lexer": "ipython3",
   "version": "3.8.3"
  }
 },
 "nbformat": 4,
 "nbformat_minor": 4
}
