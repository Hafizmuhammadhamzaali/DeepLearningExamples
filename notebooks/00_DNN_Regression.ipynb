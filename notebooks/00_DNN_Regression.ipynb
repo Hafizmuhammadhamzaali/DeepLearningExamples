{
 "cells": [
  {
   "cell_type": "code",
   "execution_count": 2,
   "metadata": {},
   "outputs": [],
   "source": [
    "import pandas as pd"
   ]
  },
  {
   "cell_type": "code",
   "execution_count": 6,
   "metadata": {},
   "outputs": [],
   "source": [
    "# Read dataset\n",
    "df = pd.read_csv('../data/SeoulBikeData.csv',\n",
    "                 parse_dates=['Date'],\n",
    "                 encoding='cp1250')"
   ]
  },
  {
   "cell_type": "code",
   "execution_count": 7,
   "metadata": {},
   "outputs": [],
   "source": [
    "# Date features\n",
    "df['Date_Month'] = df['Date'].apply(lambda x: x.month)\n",
    "df['Date_Day'] = df['Date'].apply(lambda x: x.day)\n",
    "df['Date_Weekday'] = df['Date'].apply(lambda x: x.weekday())\n",
    "df.drop(columns=[\"Date\"], inplace=True)"
   ]
  },
  {
   "cell_type": "code",
   "execution_count": 8,
   "metadata": {},
   "outputs": [],
   "source": [
    "# Get dummies\n",
    "df = pd.get_dummies(df, drop_first=True,\n",
    "                    columns=['Seasons', 'Holiday', 'Functioning Day'])"
   ]
  },
  {
   "cell_type": "code",
   "execution_count": null,
   "metadata": {},
   "outputs": [],
   "source": []
  }
 ],
 "metadata": {
  "kernelspec": {
   "display_name": "Python 3",
   "language": "python",
   "name": "python3"
  }
 },
 "nbformat": 4,
 "nbformat_minor": 4
}
