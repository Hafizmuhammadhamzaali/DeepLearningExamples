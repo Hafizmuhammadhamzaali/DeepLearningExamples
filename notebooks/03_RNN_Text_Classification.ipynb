{
 "cells": [
  {
   "cell_type": "code",
   "execution_count": 1,
   "metadata": {},
   "outputs": [],
   "source": [
    "import json\n",
    "\n",
    "import matplotlib.pyplot as plt\n",
    "import pandas as pd\n",
    "from sklearn.preprocessing import LabelEncoder\n",
    "from tensorflow import keras\n",
    "from tensorflow.keras import layers\n",
    "from tensorflow.keras.models import Sequential\n",
    "from tensorflow.keras.preprocessing.sequence import pad_sequences\n",
    "from tensorflow.keras.preprocessing.text import Tokenizer\n",
    "from tensorflow.keras.utils import to_categorical"
   ]
  },
  {
   "cell_type": "code",
   "execution_count": 2,
   "metadata": {},
   "outputs": [],
   "source": [
    "with open(\"../data/clinc150_full.json\", \"r\") as read_file:\n",
    "    datajson = json.load(read_file)\n",
    "\n",
    "df_train = pd.DataFrame(datajson['train'], columns=['Text', 'Class'])\n",
    "df_val = pd.DataFrame(datajson['val'], columns=['Text', 'Class'])"
   ]
  },
  {
   "cell_type": "code",
   "execution_count": 3,
   "metadata": {},
   "outputs": [],
   "source": [
    "maxlen = 100\n",
    "training_samples = df_train.shape[0]\n",
    "validation_samples = df_val.shape[0]\n",
    "max_words = 1000\n",
    "num_classes = len(df_train.Class.unique())"
   ]
  },
  {
   "cell_type": "code",
   "execution_count": 4,
   "metadata": {},
   "outputs": [],
   "source": [
    "tokenizer = Tokenizer(num_words=max_words)\n",
    "tokenizer.fit_on_texts(df_train.Text)\n",
    "\n",
    "sequences_train = tokenizer.texts_to_sequences(df_train.Text)\n",
    "sequences_valid = tokenizer.texts_to_sequences(df_val.Text)\n",
    "\n",
    "x_train = pad_sequences(sequences_train, maxlen=maxlen)\n",
    "x_valid = pad_sequences(sequences_valid, maxlen=maxlen)\n",
    "\n",
    "y_train = df_train.Class.values\n",
    "y_valid = df_val.Class.values"
   ]
  },
  {
   "cell_type": "code",
   "execution_count": 5,
   "metadata": {},
   "outputs": [],
   "source": [
    "encoder = LabelEncoder()\n",
    "encoder.fit(y_train)\n",
    "encoded_y_train = encoder.transform(y_train)\n",
    "encoded_y_valid = encoder.transform(y_valid)"
   ]
  },
  {
   "cell_type": "code",
   "execution_count": 6,
   "metadata": {},
   "outputs": [],
   "source": [
    "dummy_y_train = to_categorical(encoded_y_train)\n",
    "dummy_y_valid = to_categorical(encoded_y_valid)"
   ]
  },
  {
   "cell_type": "code",
   "execution_count": 7,
   "metadata": {},
   "outputs": [
    {
     "name": "stdout",
     "output_type": "stream",
     "text": [
      "Model: \"sequential\"\n",
      "_________________________________________________________________\n",
      "Layer (type)                 Output Shape              Param #   \n",
      "=================================================================\n",
      "embedding (Embedding)        (None, None, 32)          32000     \n",
      "_________________________________________________________________\n",
      "simple_rnn (SimpleRNN)       (None, 32)                2080      \n",
      "_________________________________________________________________\n",
      "dense (Dense)                (None, 150)               4950      \n",
      "=================================================================\n",
      "Total params: 39,030\n",
      "Trainable params: 39,030\n",
      "Non-trainable params: 0\n",
      "_________________________________________________________________\n"
     ]
    }
   ],
   "source": [
    "model = Sequential()\n",
    "model.add(layers.Embedding(max_words, output_dim=32))\n",
    "model.add(layers.SimpleRNN(32))\n",
    "model.add(layers.Dense(num_classes, activation=\"softmax\"))\n",
    "model.summary()"
   ]
  },
  {
   "cell_type": "code",
   "execution_count": 8,
   "metadata": {},
   "outputs": [
    {
     "name": "stdout",
     "output_type": "stream",
     "text": [
      "Epoch 1/100\n",
      "118/118 [==============================] - 4s 34ms/step - loss: 4.8901 - accuracy: 0.0246 - val_loss: 4.7012 - val_accuracy: 0.0287\n",
      "Epoch 2/100\n",
      "118/118 [==============================] - 3s 25ms/step - loss: 4.4210 - accuracy: 0.0893 - val_loss: 4.2352 - val_accuracy: 0.1493\n",
      "Epoch 3/100\n",
      "118/118 [==============================] - 3s 24ms/step - loss: 3.8468 - accuracy: 0.2349 - val_loss: 3.6571 - val_accuracy: 0.2530\n",
      "Epoch 4/100\n",
      "118/118 [==============================] - 3s 25ms/step - loss: 3.2811 - accuracy: 0.3424 - val_loss: 3.2231 - val_accuracy: 0.3287\n",
      "Epoch 5/100\n",
      "118/118 [==============================] - 3s 25ms/step - loss: 2.7901 - accuracy: 0.4576 - val_loss: 2.8026 - val_accuracy: 0.4223\n",
      "Epoch 6/100\n",
      "118/118 [==============================] - 3s 25ms/step - loss: 2.3945 - accuracy: 0.5425 - val_loss: 2.5046 - val_accuracy: 0.5003\n",
      "Epoch 7/100\n",
      "118/118 [==============================] - 3s 24ms/step - loss: 2.1161 - accuracy: 0.5888 - val_loss: 2.4818 - val_accuracy: 0.4447\n",
      "Epoch 8/100\n",
      "118/118 [==============================] - 3s 26ms/step - loss: 1.8873 - accuracy: 0.6261 - val_loss: 2.0848 - val_accuracy: 0.5560\n",
      "Epoch 9/100\n",
      "118/118 [==============================] - 3s 24ms/step - loss: 1.6443 - accuracy: 0.6835 - val_loss: 1.9293 - val_accuracy: 0.5880\n",
      "Epoch 10/100\n",
      "118/118 [==============================] - 3s 25ms/step - loss: 1.4658 - accuracy: 0.7174 - val_loss: 1.7858 - val_accuracy: 0.6110\n",
      "Epoch 11/100\n",
      "118/118 [==============================] - 3s 25ms/step - loss: 1.3178 - accuracy: 0.7473 - val_loss: 1.6783 - val_accuracy: 0.6357\n",
      "Epoch 12/100\n",
      "118/118 [==============================] - 3s 25ms/step - loss: 1.1997 - accuracy: 0.7690 - val_loss: 1.5740 - val_accuracy: 0.6537\n",
      "Epoch 13/100\n",
      "118/118 [==============================] - 3s 25ms/step - loss: 1.0974 - accuracy: 0.7873 - val_loss: 1.5117 - val_accuracy: 0.6670\n",
      "Epoch 14/100\n",
      "118/118 [==============================] - 3s 25ms/step - loss: 1.0038 - accuracy: 0.8049 - val_loss: 1.4326 - val_accuracy: 0.6837\n",
      "Epoch 15/100\n",
      "118/118 [==============================] - 3s 26ms/step - loss: 0.9383 - accuracy: 0.8131 - val_loss: 1.3820 - val_accuracy: 0.6913\n",
      "Epoch 16/100\n",
      "118/118 [==============================] - 3s 25ms/step - loss: 0.8620 - accuracy: 0.8293 - val_loss: 1.3302 - val_accuracy: 0.7053\n",
      "Epoch 17/100\n",
      "118/118 [==============================] - 4s 35ms/step - loss: 0.9036 - accuracy: 0.8120 - val_loss: 1.6885 - val_accuracy: 0.5990\n",
      "Epoch 18/100\n",
      "118/118 [==============================] - 3s 25ms/step - loss: 1.0064 - accuracy: 0.7678 - val_loss: 1.3774 - val_accuracy: 0.6807\n",
      "Epoch 19/100\n",
      "118/118 [==============================] - 3s 24ms/step - loss: 0.7985 - accuracy: 0.8293 - val_loss: 1.3111 - val_accuracy: 0.6937\n",
      "Epoch 20/100\n",
      "118/118 [==============================] - 3s 25ms/step - loss: 0.7284 - accuracy: 0.8476 - val_loss: 1.2716 - val_accuracy: 0.6990\n",
      "Epoch 21/100\n",
      "118/118 [==============================] - 3s 27ms/step - loss: 0.6795 - accuracy: 0.8584 - val_loss: 1.2427 - val_accuracy: 0.7077\n",
      "Epoch 22/100\n",
      "118/118 [==============================] - 3s 24ms/step - loss: 0.6398 - accuracy: 0.8688 - val_loss: 1.2256 - val_accuracy: 0.7057\n",
      "Epoch 23/100\n",
      "118/118 [==============================] - 3s 26ms/step - loss: 0.6093 - accuracy: 0.8733 - val_loss: 1.1950 - val_accuracy: 0.7127\n",
      "Epoch 24/100\n",
      "118/118 [==============================] - 3s 25ms/step - loss: 0.5755 - accuracy: 0.8809 - val_loss: 1.1815 - val_accuracy: 0.7187\n",
      "Epoch 25/100\n",
      "118/118 [==============================] - 3s 26ms/step - loss: 0.5478 - accuracy: 0.8871 - val_loss: 1.1767 - val_accuracy: 0.7183\n",
      "Epoch 26/100\n",
      "118/118 [==============================] - 3s 26ms/step - loss: 0.5247 - accuracy: 0.8922 - val_loss: 1.1600 - val_accuracy: 0.7223\n",
      "Epoch 27/100\n",
      "118/118 [==============================] - 3s 25ms/step - loss: 0.5013 - accuracy: 0.8974 - val_loss: 1.1493 - val_accuracy: 0.7253\n",
      "Epoch 28/100\n",
      "118/118 [==============================] - 3s 26ms/step - loss: 0.4803 - accuracy: 0.9033 - val_loss: 1.1387 - val_accuracy: 0.7307\n",
      "Epoch 29/100\n",
      "118/118 [==============================] - 3s 24ms/step - loss: 0.4602 - accuracy: 0.9069 - val_loss: 1.1271 - val_accuracy: 0.7337\n",
      "Epoch 30/100\n",
      "118/118 [==============================] - 3s 26ms/step - loss: 0.4420 - accuracy: 0.9104 - val_loss: 1.1125 - val_accuracy: 0.7350\n",
      "Epoch 31/100\n",
      "118/118 [==============================] - 3s 27ms/step - loss: 0.4229 - accuracy: 0.9145 - val_loss: 1.1175 - val_accuracy: 0.7347\n",
      "Epoch 32/100\n",
      "118/118 [==============================] - 3s 26ms/step - loss: 0.4067 - accuracy: 0.9180 - val_loss: 1.1132 - val_accuracy: 0.7343\n",
      "Epoch 33/100\n",
      "118/118 [==============================] - 3s 27ms/step - loss: 0.3912 - accuracy: 0.9205 - val_loss: 1.1134 - val_accuracy: 0.7357\n",
      "Epoch 34/100\n",
      "118/118 [==============================] - 3s 25ms/step - loss: 0.3774 - accuracy: 0.9233 - val_loss: 1.1002 - val_accuracy: 0.7390\n",
      "Epoch 35/100\n",
      "118/118 [==============================] - 3s 26ms/step - loss: 0.3627 - accuracy: 0.9264 - val_loss: 1.1052 - val_accuracy: 0.7403\n",
      "Epoch 36/100\n",
      "118/118 [==============================] - 3s 26ms/step - loss: 0.3520 - accuracy: 0.9292 - val_loss: 1.1021 - val_accuracy: 0.7420\n",
      "Epoch 37/100\n",
      "118/118 [==============================] - 3s 26ms/step - loss: 0.3362 - accuracy: 0.9329 - val_loss: 1.0914 - val_accuracy: 0.7473\n",
      "Epoch 38/100\n",
      "118/118 [==============================] - 3s 26ms/step - loss: 0.3236 - accuracy: 0.9333 - val_loss: 1.0986 - val_accuracy: 0.7480\n",
      "Epoch 39/100\n",
      "118/118 [==============================] - 3s 26ms/step - loss: 0.3144 - accuracy: 0.9369 - val_loss: 1.0967 - val_accuracy: 0.7460\n",
      "Epoch 40/100\n",
      "118/118 [==============================] - 3s 26ms/step - loss: 0.3017 - accuracy: 0.9395 - val_loss: 1.0950 - val_accuracy: 0.7457\n",
      "Epoch 41/100\n",
      "118/118 [==============================] - 3s 25ms/step - loss: 0.2965 - accuracy: 0.9409 - val_loss: 1.0952 - val_accuracy: 0.7487\n",
      "Epoch 42/100\n",
      "118/118 [==============================] - 3s 25ms/step - loss: 0.2838 - accuracy: 0.9429 - val_loss: 1.1005 - val_accuracy: 0.7527\n"
     ]
    }
   ],
   "source": [
    "model.compile(loss='categorical_crossentropy', optimizer='adam', metrics=['accuracy'])\n",
    "\n",
    "history = model.fit(x_train,\n",
    "                    dummy_y_train,\n",
    "                    batch_size=128,\n",
    "                    epochs=100,\n",
    "                    validation_data=(x_valid, dummy_y_valid),\n",
    "                    callbacks=[keras.callbacks.EarlyStopping(patience=5)])"
   ]
  },
  {
   "cell_type": "code",
   "execution_count": 9,
   "metadata": {},
   "outputs": [
    {
     "data": {
      "image/png": "[encoded data removed]",
      "text/plain": [
       "<Figure size 432x288 with 1 Axes>"
      ]
     },
     "metadata": {
      "needs_background": "light"
     },
     "output_type": "display_data"
    }
   ],
   "source": [
    "plt.plot(history.history['accuracy'])\n",
    "plt.plot(history.history['val_accuracy'])\n",
    "plt.title('Model Performance')\n",
    "plt.ylabel('accuracy')\n",
    "plt.xlabel('epoch')\n",
    "plt.legend(['train', 'val'], loc='upper left')\n",
    "plt.show()"
   ]
  }
 ],
 "metadata": {
  "kernelspec": {
   "display_name": "Python 3",
   "language": "python",
   "name": "python3"
  },
  "language_info": {
   "codemirror_mode": {
    "name": "ipython",
    "version": 3
   },
   "file_extension": ".py",
   "mimetype": "text/x-python",
   "name": "python",
   "nbconvert_exporter": "python",
   "pygments_lexer": "ipython3",
   "version": "3.8.3"
  }
 },
 "nbformat": 4,
 "nbformat_minor": 4
}
