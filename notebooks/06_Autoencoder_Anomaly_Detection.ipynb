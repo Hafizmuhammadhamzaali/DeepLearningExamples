{
 "cells": [
  {
   "cell_type": "code",
   "execution_count": 1,
   "metadata": {},
   "outputs": [],
   "source": [
    "import matplotlib.pyplot as plt\n",
    "import numpy as np\n",
    "import pandas as pd\n",
    "import tensorflow as tf\n",
    "from scipy.io import loadmat\n",
    "from sklearn.preprocessing import Normalizer\n",
    "from tensorflow.keras import layers, losses\n",
    "from tensorflow.keras.callbacks import EarlyStopping\n",
    "from tensorflow.keras.models import Model"
   ]
  },
  {
   "cell_type": "code",
   "execution_count": 2,
   "metadata": {},
   "outputs": [],
   "source": [
    "# Read data\n",
    "data = loadmat(\"../data/breastw.mat\")\n",
    "\n",
    "X = data['X']\n",
    "y = data['y']\n",
    "X = pd.DataFrame(X)\n",
    "y = pd.DataFrame(y)"
   ]
  },
  {
   "cell_type": "code",
   "execution_count": 3,
   "metadata": {},
   "outputs": [],
   "source": [
    "# Normalize data\n",
    "scaler = Normalizer()\n",
    "X_scaled = pd.DataFrame(scaler.fit_transform(X))\n",
    "\n",
    "df = pd.concat([X_scaled, y], ignore_index=True, axis=1)\n",
    "df.columns = [f'X{i}' for i in range(1, X.shape[1] + 1)] + ['isOutlier']"
   ]
  },
  {
   "cell_type": "code",
   "execution_count": 4,
   "metadata": {},
   "outputs": [
    {
     "name": "stderr",
     "output_type": "stream",
     "text": [
      "/Users/muratkoptur/opt/anaconda3/lib/python3.8/site-packages/pandas/core/frame.py:3990: SettingWithCopyWarning: \n",
      "A value is trying to be set on a copy of a slice from a DataFrame\n",
      "\n",
      "See the caveats in the documentation: https://pandas.pydata.org/pandas-docs/stable/user_guide/indexing.html#returning-a-view-versus-a-copy\n",
      "  return super().drop(\n"
     ]
    }
   ],
   "source": [
    "# Split normal data and outliers\n",
    "df_normal = df[df.isOutlier == 0]\n",
    "df_normal.columns = [f'X{i}' for i in range(1, X.shape[1] + 1)] + ['isOutlier']\n",
    "\n",
    "df_outlier = df[df.isOutlier == 1]\n",
    "df_outlier.columns = [f'X{i}' for i in range(1, X.shape[1] + 1)] + ['isOutlier']\n",
    "\n",
    "df_normal.drop([\"isOutlier\"], axis=1, inplace=True)\n",
    "df_outlier.drop(['isOutlier'], axis=1, inplace=True)"
   ]
  },
  {
   "cell_type": "code",
   "execution_count": 5,
   "metadata": {},
   "outputs": [],
   "source": [
    "# Split normal data as train and validation\n",
    "train_size = int(len(df_normal) * 0.67)\n",
    "valid_size = len(df_normal) - train_size\n",
    "\n",
    "train_normal = df_normal.iloc[[i for i in range(train_size)], :]\n",
    "valid_normal = df_normal.iloc[[i for i in range(train_size, len(df_normal))], :]"
   ]
  },
  {
   "cell_type": "code",
   "execution_count": 6,
   "metadata": {},
   "outputs": [],
   "source": [
    "# Autoencoder model\n",
    "class Autoencoder(Model):\n",
    "    def __init__(self):\n",
    "        super(Autoencoder, self).__init__()\n",
    "        self.encoder = tf.keras.Sequential([\n",
    "            layers.Dense(9, activation='elu'),\n",
    "            layers.Dense(6, activation='elu'),\n",
    "            layers.Dense(3, activation='elu')\n",
    "        ])\n",
    "        self.decoder = tf.keras.Sequential([\n",
    "            layers.Dense(3, activation='elu'),\n",
    "            layers.Dense(6, activation='elu'),\n",
    "            layers.Dense(9, activation='elu')\n",
    "        ])\n",
    "\n",
    "    def call(self, x):\n",
    "        encoded = self.encoder(x)\n",
    "        decoded = self.decoder(encoded)\n",
    "        return decoded"
   ]
  },
  {
   "cell_type": "code",
   "execution_count": 7,
   "metadata": {},
   "outputs": [
    {
     "name": "stdout",
     "output_type": "stream",
     "text": [
      "Epoch 1/100\n",
      "WARNING:tensorflow:Layer autoencoder is casting an input tensor from dtype float64 to the layer's dtype of float32, which is new behavior in TensorFlow 2.  The layer has dtype float32 because it's dtype defaults to floatx.\n",
      "\n",
      "If you intended to run this layer in float32, you can safely ignore this warning. If in doubt, this warning is likely only an issue if you are porting a TensorFlow 1.X model to TensorFlow 2.\n",
      "\n",
      "To change all layers to have dtype float64 by default, call `tf.keras.backend.set_floatx('float64')`. To change just this layer, pass dtype='float64' to the layer constructor. If you are the author of this layer, you can disable autocasting by passing autocast=False to the base Layer constructor.\n",
      "\n",
      "3/3 [==============================] - 0s 56ms/step - loss: 0.2858 - mean_absolute_error: 0.2858 - val_loss: 0.2792 - val_mean_absolute_error: 0.2792\n",
      "Epoch 2/100\n",
      "3/3 [==============================] - 0s 13ms/step - loss: 0.2795 - mean_absolute_error: 0.2795 - val_loss: 0.2729 - val_mean_absolute_error: 0.2729\n",
      "Epoch 3/100\n",
      "3/3 [==============================] - 0s 14ms/step - loss: 0.2732 - mean_absolute_error: 0.2732 - val_loss: 0.2667 - val_mean_absolute_error: 0.2667\n",
      "Epoch 4/100\n",
      "3/3 [==============================] - 0s 13ms/step - loss: 0.2669 - mean_absolute_error: 0.2669 - val_loss: 0.2606 - val_mean_absolute_error: 0.2606\n",
      "Epoch 5/100\n",
      "3/3 [==============================] - 0s 13ms/step - loss: 0.2607 - mean_absolute_error: 0.2607 - val_loss: 0.2545 - val_mean_absolute_error: 0.2545\n",
      "Epoch 6/100\n",
      "3/3 [==============================] - 0s 13ms/step - loss: 0.2546 - mean_absolute_error: 0.2546 - val_loss: 0.2486 - val_mean_absolute_error: 0.2486\n",
      "Epoch 7/100\n",
      "3/3 [==============================] - 0s 13ms/step - loss: 0.2486 - mean_absolute_error: 0.2486 - val_loss: 0.2428 - val_mean_absolute_error: 0.2428\n",
      "Epoch 8/100\n",
      "3/3 [==============================] - 0s 13ms/step - loss: 0.2427 - mean_absolute_error: 0.2427 - val_loss: 0.2370 - val_mean_absolute_error: 0.2370\n",
      "Epoch 9/100\n",
      "3/3 [==============================] - 0s 14ms/step - loss: 0.2369 - mean_absolute_error: 0.2369 - val_loss: 0.2313 - val_mean_absolute_error: 0.2313\n",
      "Epoch 10/100\n",
      "3/3 [==============================] - 0s 14ms/step - loss: 0.2312 - mean_absolute_error: 0.2312 - val_loss: 0.2257 - val_mean_absolute_error: 0.2257\n",
      "Epoch 11/100\n",
      "3/3 [==============================] - 0s 13ms/step - loss: 0.2257 - mean_absolute_error: 0.2257 - val_loss: 0.2203 - val_mean_absolute_error: 0.2203\n",
      "Epoch 12/100\n",
      "3/3 [==============================] - 0s 15ms/step - loss: 0.2204 - mean_absolute_error: 0.2204 - val_loss: 0.2150 - val_mean_absolute_error: 0.2150\n",
      "Epoch 13/100\n",
      "3/3 [==============================] - 0s 13ms/step - loss: 0.2153 - mean_absolute_error: 0.2153 - val_loss: 0.2101 - val_mean_absolute_error: 0.2101\n",
      "Epoch 14/100\n",
      "3/3 [==============================] - 0s 14ms/step - loss: 0.2104 - mean_absolute_error: 0.2104 - val_loss: 0.2055 - val_mean_absolute_error: 0.2055\n",
      "Epoch 15/100\n",
      "3/3 [==============================] - 0s 13ms/step - loss: 0.2058 - mean_absolute_error: 0.2058 - val_loss: 0.2010 - val_mean_absolute_error: 0.2010\n",
      "Epoch 16/100\n",
      "3/3 [==============================] - 0s 13ms/step - loss: 0.2015 - mean_absolute_error: 0.2015 - val_loss: 0.1969 - val_mean_absolute_error: 0.1969\n",
      "Epoch 17/100\n",
      "3/3 [==============================] - 0s 14ms/step - loss: 0.1973 - mean_absolute_error: 0.1973 - val_loss: 0.1930 - val_mean_absolute_error: 0.1930\n",
      "Epoch 18/100\n",
      "3/3 [==============================] - 0s 13ms/step - loss: 0.1934 - mean_absolute_error: 0.1934 - val_loss: 0.1893 - val_mean_absolute_error: 0.1893\n",
      "Epoch 19/100\n",
      "3/3 [==============================] - 0s 15ms/step - loss: 0.1898 - mean_absolute_error: 0.1898 - val_loss: 0.1858 - val_mean_absolute_error: 0.1858\n",
      "Epoch 20/100\n",
      "3/3 [==============================] - 0s 13ms/step - loss: 0.1862 - mean_absolute_error: 0.1862 - val_loss: 0.1824 - val_mean_absolute_error: 0.1824\n",
      "Epoch 21/100\n",
      "3/3 [==============================] - 0s 15ms/step - loss: 0.1827 - mean_absolute_error: 0.1827 - val_loss: 0.1792 - val_mean_absolute_error: 0.1792\n",
      "Epoch 22/100\n",
      "3/3 [==============================] - 0s 13ms/step - loss: 0.1794 - mean_absolute_error: 0.1794 - val_loss: 0.1760 - val_mean_absolute_error: 0.1760\n",
      "Epoch 23/100\n",
      "3/3 [==============================] - 0s 12ms/step - loss: 0.1762 - mean_absolute_error: 0.1762 - val_loss: 0.1730 - val_mean_absolute_error: 0.1730\n",
      "Epoch 24/100\n",
      "3/3 [==============================] - 0s 13ms/step - loss: 0.1732 - mean_absolute_error: 0.1732 - val_loss: 0.1701 - val_mean_absolute_error: 0.1701\n",
      "Epoch 25/100\n",
      "3/3 [==============================] - 0s 14ms/step - loss: 0.1702 - mean_absolute_error: 0.1702 - val_loss: 0.1672 - val_mean_absolute_error: 0.1672\n",
      "Epoch 26/100\n",
      "3/3 [==============================] - 0s 13ms/step - loss: 0.1673 - mean_absolute_error: 0.1673 - val_loss: 0.1644 - val_mean_absolute_error: 0.1644\n",
      "Epoch 27/100\n",
      "3/3 [==============================] - 0s 13ms/step - loss: 0.1644 - mean_absolute_error: 0.1644 - val_loss: 0.1616 - val_mean_absolute_error: 0.1616\n",
      "Epoch 28/100\n",
      "3/3 [==============================] - 0s 13ms/step - loss: 0.1617 - mean_absolute_error: 0.1617 - val_loss: 0.1588 - val_mean_absolute_error: 0.1588\n",
      "Epoch 29/100\n",
      "3/3 [==============================] - 0s 13ms/step - loss: 0.1589 - mean_absolute_error: 0.1589 - val_loss: 0.1561 - val_mean_absolute_error: 0.1561\n",
      "Epoch 30/100\n",
      "3/3 [==============================] - 0s 16ms/step - loss: 0.1562 - mean_absolute_error: 0.1562 - val_loss: 0.1534 - val_mean_absolute_error: 0.1534\n",
      "Epoch 31/100\n",
      "3/3 [==============================] - 0s 13ms/step - loss: 0.1536 - mean_absolute_error: 0.1536 - val_loss: 0.1508 - val_mean_absolute_error: 0.1508\n",
      "Epoch 32/100\n",
      "3/3 [==============================] - 0s 14ms/step - loss: 0.1510 - mean_absolute_error: 0.1510 - val_loss: 0.1483 - val_mean_absolute_error: 0.1483\n",
      "Epoch 33/100\n",
      "3/3 [==============================] - 0s 14ms/step - loss: 0.1485 - mean_absolute_error: 0.1485 - val_loss: 0.1459 - val_mean_absolute_error: 0.1459\n",
      "Epoch 34/100\n",
      "3/3 [==============================] - 0s 13ms/step - loss: 0.1461 - mean_absolute_error: 0.1461 - val_loss: 0.1436 - val_mean_absolute_error: 0.1436\n",
      "Epoch 35/100\n",
      "3/3 [==============================] - 0s 14ms/step - loss: 0.1438 - mean_absolute_error: 0.1438 - val_loss: 0.1412 - val_mean_absolute_error: 0.1412\n",
      "Epoch 36/100\n",
      "3/3 [==============================] - 0s 13ms/step - loss: 0.1415 - mean_absolute_error: 0.1415 - val_loss: 0.1390 - val_mean_absolute_error: 0.1390\n",
      "Epoch 37/100\n",
      "3/3 [==============================] - 0s 13ms/step - loss: 0.1394 - mean_absolute_error: 0.1394 - val_loss: 0.1371 - val_mean_absolute_error: 0.1371\n",
      "Epoch 38/100\n",
      "3/3 [==============================] - 0s 13ms/step - loss: 0.1375 - mean_absolute_error: 0.1375 - val_loss: 0.1351 - val_mean_absolute_error: 0.1351\n",
      "Epoch 39/100\n",
      "3/3 [==============================] - 0s 15ms/step - loss: 0.1356 - mean_absolute_error: 0.1356 - val_loss: 0.1333 - val_mean_absolute_error: 0.1333\n",
      "Epoch 40/100\n",
      "3/3 [==============================] - 0s 13ms/step - loss: 0.1338 - mean_absolute_error: 0.1338 - val_loss: 0.1314 - val_mean_absolute_error: 0.1314\n",
      "Epoch 41/100\n",
      "3/3 [==============================] - 0s 13ms/step - loss: 0.1321 - mean_absolute_error: 0.1321 - val_loss: 0.1297 - val_mean_absolute_error: 0.1297\n",
      "Epoch 42/100\n",
      "3/3 [==============================] - 0s 13ms/step - loss: 0.1304 - mean_absolute_error: 0.1304 - val_loss: 0.1281 - val_mean_absolute_error: 0.1281\n",
      "Epoch 43/100\n",
      "3/3 [==============================] - 0s 13ms/step - loss: 0.1289 - mean_absolute_error: 0.1289 - val_loss: 0.1265 - val_mean_absolute_error: 0.1265\n",
      "Epoch 44/100\n",
      "3/3 [==============================] - 0s 14ms/step - loss: 0.1273 - mean_absolute_error: 0.1273 - val_loss: 0.1249 - val_mean_absolute_error: 0.1249\n",
      "Epoch 45/100\n",
      "3/3 [==============================] - 0s 13ms/step - loss: 0.1259 - mean_absolute_error: 0.1259 - val_loss: 0.1235 - val_mean_absolute_error: 0.1235\n",
      "Epoch 46/100\n",
      "3/3 [==============================] - 0s 13ms/step - loss: 0.1244 - mean_absolute_error: 0.1244 - val_loss: 0.1221 - val_mean_absolute_error: 0.1221\n"
     ]
    },
    {
     "name": "stdout",
     "output_type": "stream",
     "text": [
      "Epoch 47/100\n",
      "3/3 [==============================] - 0s 13ms/step - loss: 0.1230 - mean_absolute_error: 0.1230 - val_loss: 0.1207 - val_mean_absolute_error: 0.1207\n",
      "Epoch 48/100\n",
      "3/3 [==============================] - 0s 13ms/step - loss: 0.1217 - mean_absolute_error: 0.1217 - val_loss: 0.1195 - val_mean_absolute_error: 0.1195\n",
      "Epoch 49/100\n",
      "3/3 [==============================] - 0s 16ms/step - loss: 0.1204 - mean_absolute_error: 0.1204 - val_loss: 0.1183 - val_mean_absolute_error: 0.1183\n",
      "Epoch 50/100\n",
      "3/3 [==============================] - 0s 13ms/step - loss: 0.1191 - mean_absolute_error: 0.1191 - val_loss: 0.1172 - val_mean_absolute_error: 0.1172\n",
      "Epoch 51/100\n",
      "3/3 [==============================] - 0s 13ms/step - loss: 0.1180 - mean_absolute_error: 0.1180 - val_loss: 0.1161 - val_mean_absolute_error: 0.1161\n",
      "Epoch 52/100\n",
      "3/3 [==============================] - 0s 13ms/step - loss: 0.1169 - mean_absolute_error: 0.1169 - val_loss: 0.1151 - val_mean_absolute_error: 0.1151\n",
      "Epoch 53/100\n",
      "3/3 [==============================] - 0s 13ms/step - loss: 0.1158 - mean_absolute_error: 0.1158 - val_loss: 0.1141 - val_mean_absolute_error: 0.1141\n",
      "Epoch 54/100\n",
      "3/3 [==============================] - 0s 13ms/step - loss: 0.1148 - mean_absolute_error: 0.1148 - val_loss: 0.1132 - val_mean_absolute_error: 0.1132\n",
      "Epoch 55/100\n",
      "3/3 [==============================] - 0s 13ms/step - loss: 0.1138 - mean_absolute_error: 0.1138 - val_loss: 0.1124 - val_mean_absolute_error: 0.1124\n",
      "Epoch 56/100\n",
      "3/3 [==============================] - 0s 13ms/step - loss: 0.1129 - mean_absolute_error: 0.1129 - val_loss: 0.1115 - val_mean_absolute_error: 0.1115\n",
      "Epoch 57/100\n",
      "3/3 [==============================] - 0s 13ms/step - loss: 0.1120 - mean_absolute_error: 0.1120 - val_loss: 0.1107 - val_mean_absolute_error: 0.1107\n",
      "Epoch 58/100\n",
      "3/3 [==============================] - 0s 15ms/step - loss: 0.1111 - mean_absolute_error: 0.1111 - val_loss: 0.1099 - val_mean_absolute_error: 0.1099\n",
      "Epoch 59/100\n",
      "3/3 [==============================] - 0s 13ms/step - loss: 0.1103 - mean_absolute_error: 0.1103 - val_loss: 0.1092 - val_mean_absolute_error: 0.1092\n",
      "Epoch 60/100\n",
      "3/3 [==============================] - 0s 13ms/step - loss: 0.1095 - mean_absolute_error: 0.1095 - val_loss: 0.1084 - val_mean_absolute_error: 0.1084\n",
      "Epoch 61/100\n",
      "3/3 [==============================] - 0s 13ms/step - loss: 0.1087 - mean_absolute_error: 0.1087 - val_loss: 0.1077 - val_mean_absolute_error: 0.1077\n",
      "Epoch 62/100\n",
      "3/3 [==============================] - 0s 13ms/step - loss: 0.1080 - mean_absolute_error: 0.1080 - val_loss: 0.1070 - val_mean_absolute_error: 0.1070\n",
      "Epoch 63/100\n",
      "3/3 [==============================] - 0s 13ms/step - loss: 0.1072 - mean_absolute_error: 0.1072 - val_loss: 0.1063 - val_mean_absolute_error: 0.1063\n",
      "Epoch 64/100\n",
      "3/3 [==============================] - 0s 13ms/step - loss: 0.1065 - mean_absolute_error: 0.1065 - val_loss: 0.1056 - val_mean_absolute_error: 0.1056\n",
      "Epoch 65/100\n",
      "3/3 [==============================] - 0s 13ms/step - loss: 0.1058 - mean_absolute_error: 0.1058 - val_loss: 0.1050 - val_mean_absolute_error: 0.1050\n",
      "Epoch 66/100\n",
      "3/3 [==============================] - 0s 13ms/step - loss: 0.1052 - mean_absolute_error: 0.1052 - val_loss: 0.1044 - val_mean_absolute_error: 0.1044\n",
      "Epoch 67/100\n",
      "3/3 [==============================] - 0s 13ms/step - loss: 0.1046 - mean_absolute_error: 0.1046 - val_loss: 0.1038 - val_mean_absolute_error: 0.1038\n",
      "Epoch 68/100\n",
      "3/3 [==============================] - 0s 15ms/step - loss: 0.1040 - mean_absolute_error: 0.1040 - val_loss: 0.1032 - val_mean_absolute_error: 0.1032\n",
      "Epoch 69/100\n",
      "3/3 [==============================] - 0s 13ms/step - loss: 0.1034 - mean_absolute_error: 0.1034 - val_loss: 0.1027 - val_mean_absolute_error: 0.1027\n",
      "Epoch 70/100\n",
      "3/3 [==============================] - 0s 13ms/step - loss: 0.1028 - mean_absolute_error: 0.1028 - val_loss: 0.1021 - val_mean_absolute_error: 0.1021\n",
      "Epoch 71/100\n",
      "3/3 [==============================] - 0s 13ms/step - loss: 0.1023 - mean_absolute_error: 0.1023 - val_loss: 0.1017 - val_mean_absolute_error: 0.1017\n",
      "Epoch 72/100\n",
      "3/3 [==============================] - 0s 13ms/step - loss: 0.1019 - mean_absolute_error: 0.1019 - val_loss: 0.1013 - val_mean_absolute_error: 0.1013\n",
      "Epoch 73/100\n",
      "3/3 [==============================] - 0s 13ms/step - loss: 0.1015 - mean_absolute_error: 0.1015 - val_loss: 0.1009 - val_mean_absolute_error: 0.1009\n",
      "Epoch 74/100\n",
      "3/3 [==============================] - 0s 13ms/step - loss: 0.1011 - mean_absolute_error: 0.1011 - val_loss: 0.1005 - val_mean_absolute_error: 0.1005\n",
      "Epoch 75/100\n",
      "3/3 [==============================] - 0s 13ms/step - loss: 0.1007 - mean_absolute_error: 0.1007 - val_loss: 0.1001 - val_mean_absolute_error: 0.1001\n",
      "Epoch 76/100\n",
      "3/3 [==============================] - 0s 13ms/step - loss: 0.1004 - mean_absolute_error: 0.1004 - val_loss: 0.0998 - val_mean_absolute_error: 0.0998\n",
      "Epoch 77/100\n",
      "3/3 [==============================] - 0s 15ms/step - loss: 0.1000 - mean_absolute_error: 0.1000 - val_loss: 0.0994 - val_mean_absolute_error: 0.0994\n",
      "Epoch 78/100\n",
      "3/3 [==============================] - 0s 13ms/step - loss: 0.0996 - mean_absolute_error: 0.0996 - val_loss: 0.0990 - val_mean_absolute_error: 0.0990\n",
      "Epoch 79/100\n",
      "3/3 [==============================] - 0s 14ms/step - loss: 0.0993 - mean_absolute_error: 0.0993 - val_loss: 0.0986 - val_mean_absolute_error: 0.0986\n",
      "Epoch 80/100\n",
      "3/3 [==============================] - 0s 13ms/step - loss: 0.0990 - mean_absolute_error: 0.0990 - val_loss: 0.0983 - val_mean_absolute_error: 0.0983\n",
      "Epoch 81/100\n",
      "3/3 [==============================] - 0s 13ms/step - loss: 0.0987 - mean_absolute_error: 0.0987 - val_loss: 0.0981 - val_mean_absolute_error: 0.0981\n",
      "Epoch 82/100\n",
      "3/3 [==============================] - 0s 13ms/step - loss: 0.0985 - mean_absolute_error: 0.0985 - val_loss: 0.0978 - val_mean_absolute_error: 0.0978\n",
      "Epoch 83/100\n",
      "3/3 [==============================] - 0s 13ms/step - loss: 0.0983 - mean_absolute_error: 0.0983 - val_loss: 0.0976 - val_mean_absolute_error: 0.0976\n",
      "Epoch 84/100\n",
      "3/3 [==============================] - 0s 13ms/step - loss: 0.0980 - mean_absolute_error: 0.0980 - val_loss: 0.0973 - val_mean_absolute_error: 0.0973\n",
      "Epoch 85/100\n",
      "3/3 [==============================] - 0s 13ms/step - loss: 0.0978 - mean_absolute_error: 0.0978 - val_loss: 0.0971 - val_mean_absolute_error: 0.0971\n",
      "Epoch 86/100\n",
      "3/3 [==============================] - 0s 13ms/step - loss: 0.0976 - mean_absolute_error: 0.0976 - val_loss: 0.0968 - val_mean_absolute_error: 0.0968\n",
      "Epoch 87/100\n",
      "3/3 [==============================] - 0s 16ms/step - loss: 0.0974 - mean_absolute_error: 0.0974 - val_loss: 0.0966 - val_mean_absolute_error: 0.0966\n",
      "Epoch 88/100\n",
      "3/3 [==============================] - 0s 13ms/step - loss: 0.0972 - mean_absolute_error: 0.0972 - val_loss: 0.0964 - val_mean_absolute_error: 0.0964\n",
      "Epoch 89/100\n",
      "3/3 [==============================] - 0s 13ms/step - loss: 0.0971 - mean_absolute_error: 0.0971 - val_loss: 0.0963 - val_mean_absolute_error: 0.0963\n",
      "Epoch 90/100\n",
      "3/3 [==============================] - 0s 13ms/step - loss: 0.0969 - mean_absolute_error: 0.0969 - val_loss: 0.0961 - val_mean_absolute_error: 0.0961\n",
      "Epoch 91/100\n",
      "3/3 [==============================] - 0s 13ms/step - loss: 0.0967 - mean_absolute_error: 0.0967 - val_loss: 0.0960 - val_mean_absolute_error: 0.0960\n",
      "Epoch 92/100\n",
      "3/3 [==============================] - 0s 13ms/step - loss: 0.0966 - mean_absolute_error: 0.0966 - val_loss: 0.0958 - val_mean_absolute_error: 0.0958\n",
      "Epoch 93/100\n",
      "3/3 [==============================] - 0s 13ms/step - loss: 0.0965 - mean_absolute_error: 0.0965 - val_loss: 0.0957 - val_mean_absolute_error: 0.0957\n",
      "Epoch 94/100\n",
      "3/3 [==============================] - 0s 13ms/step - loss: 0.0964 - mean_absolute_error: 0.0964 - val_loss: 0.0955 - val_mean_absolute_error: 0.0955\n",
      "Epoch 95/100\n",
      "3/3 [==============================] - 0s 13ms/step - loss: 0.0962 - mean_absolute_error: 0.0962 - val_loss: 0.0953 - val_mean_absolute_error: 0.0953\n",
      "Epoch 96/100\n",
      "3/3 [==============================] - 0s 16ms/step - loss: 0.0961 - mean_absolute_error: 0.0961 - val_loss: 0.0952 - val_mean_absolute_error: 0.0952\n",
      "Epoch 97/100\n"
     ]
    },
    {
     "name": "stdout",
     "output_type": "stream",
     "text": [
      "3/3 [==============================] - 0s 13ms/step - loss: 0.0960 - mean_absolute_error: 0.0960 - val_loss: 0.0950 - val_mean_absolute_error: 0.0950\n",
      "Epoch 98/100\n",
      "3/3 [==============================] - 0s 12ms/step - loss: 0.0959 - mean_absolute_error: 0.0959 - val_loss: 0.0948 - val_mean_absolute_error: 0.0948\n",
      "Epoch 99/100\n",
      "3/3 [==============================] - 0s 13ms/step - loss: 0.0957 - mean_absolute_error: 0.0957 - val_loss: 0.0947 - val_mean_absolute_error: 0.0947\n",
      "Epoch 100/100\n",
      "3/3 [==============================] - 0s 13ms/step - loss: 0.0956 - mean_absolute_error: 0.0956 - val_loss: 0.0945 - val_mean_absolute_error: 0.0945\n"
     ]
    }
   ],
   "source": [
    "autoencoder = Autoencoder()\n",
    "\n",
    "autoencoder.compile(optimizer=tf.keras.optimizers.SGD(),\n",
    "                    loss=losses.mean_absolute_error,\n",
    "                    metrics=['mean_absolute_error'])\n",
    "\n",
    "# Fit on normal train data\n",
    "history = autoencoder.fit(train_normal, train_normal,\n",
    "                          epochs=100,\n",
    "                          batch_size=100,\n",
    "                          validation_data=(valid_normal, valid_normal),\n",
    "                          callbacks=[EarlyStopping(patience=10)])"
   ]
  },
  {
   "cell_type": "code",
   "execution_count": 8,
   "metadata": {},
   "outputs": [
    {
     "data": {
      "image/png": "[encoded data removed]",
      "text/plain": [
       "<Figure size 432x288 with 1 Axes>"
      ]
     },
     "metadata": {
      "needs_background": "light"
     },
     "output_type": "display_data"
    }
   ],
   "source": [
    "plt.plot(history.history['mean_absolute_error'])\n",
    "plt.plot(history.history['val_mean_absolute_error'])\n",
    "plt.title('Model Performance')\n",
    "plt.ylabel('Loss')\n",
    "plt.xlabel('epoch')\n",
    "plt.legend(['train', 'val'], loc='upper left')\n",
    "plt.show()"
   ]
  },
  {
   "cell_type": "code",
   "execution_count": 9,
   "metadata": {},
   "outputs": [
    {
     "data": {
      "image/png": "[encoded data removed]",
      "text/plain": [
       "<Figure size 432x288 with 1 Axes>"
      ]
     },
     "metadata": {
      "needs_background": "light"
     },
     "output_type": "display_data"
    },
    {
     "data": {
      "image/png": "[encoded data removed]",
      "text/plain": [
       "<Figure size 432x288 with 1 Axes>"
      ]
     },
     "metadata": {
      "needs_background": "light"
     },
     "output_type": "display_data"
    }
   ],
   "source": [
    "# Calculate reconstruction errors for normal and outliers\n",
    "train_normal_pred = autoencoder.predict(train_normal)\n",
    "train_mae_loss = np.mean(np.abs(train_normal_pred - train_normal), axis=1)\n",
    "outlier_pred = autoencoder.predict(df_outlier)\n",
    "outlier_mae_loss = np.mean(np.abs(outlier_pred - df_outlier), axis=1)\n",
    "\n",
    "plt.hist(train_mae_loss)\n",
    "plt.xlabel(\"Train MAE loss\")\n",
    "plt.ylabel(\"No of samples\")\n",
    "plt.show()\n",
    "\n",
    "plt.hist(outlier_mae_loss)\n",
    "plt.xlabel(\"Outlier MAE loss\")\n",
    "plt.ylabel(\"No of samples\")\n",
    "plt.show()"
   ]
  },
  {
   "cell_type": "code",
   "execution_count": 10,
   "metadata": {},
   "outputs": [
    {
     "name": "stdout",
     "output_type": "stream",
     "text": [
      "Reconstruction error threshold:  0.08910257036876344\n",
      "Number of anomaly samples:  168\n",
      "Indices of anomaly samples:  (array([  4,   7,   9,  10,  11,  12,  14,  15,  16,  17,  18,  19,  20,\n",
      "        23,  24,  26,  27,  28,  29,  30,  31,  32,  33,  34,  35,  36,\n",
      "        37,  38,  40,  41,  43,  44,  48,  49,  51,  52,  53,  54,  55,\n",
      "        59,  60,  62,  65,  66,  68,  69,  70,  72,  73,  74,  76,  77,\n",
      "        78,  80,  81,  82,  84,  86,  88,  90,  91,  94,  95,  96,  97,\n",
      "        98, 100, 102, 103, 104, 105, 106, 107, 108, 109, 111, 112, 113,\n",
      "       115, 118, 119, 120, 121, 122, 123, 124, 125, 126, 127, 130, 132,\n",
      "       134, 137, 138, 140, 144, 145, 146, 147, 148, 150, 151, 152, 153,\n",
      "       155, 156, 157, 161, 163, 165, 167, 168, 169, 171, 173, 175, 176,\n",
      "       177, 178, 179, 180, 181, 183, 185, 187, 189, 190, 191, 192, 193,\n",
      "       194, 195, 196, 197, 198, 200, 202, 203, 204, 205, 206, 208, 209,\n",
      "       210, 211, 212, 213, 214, 215, 216, 217, 218, 219, 220, 221, 222,\n",
      "       223, 227, 228, 229, 230, 231, 232, 234, 235, 236, 237, 238]),)\n",
      "0.7304347826086957\n"
     ]
    }
   ],
   "source": [
    "# Calculate MAE threshold for anomalies\n",
    "# I'll choose threshold as median loss\n",
    "threshold = np.median(train_mae_loss)\n",
    "print(\"Reconstruction error threshold: \", threshold)\n",
    "false_alarms = train_mae_loss > np.median(history.history['loss'])\n",
    "anomalies = outlier_mae_loss > np.median(history.history['loss'])\n",
    "print(\"Number of anomaly samples: \", np.sum(anomalies))\n",
    "print(\"Indices of anomaly samples: \", np.where(anomalies))\n",
    "\n",
    "# F1 score for classification\n",
    "f1_score = np.sum(anomalies) / (np.sum(anomalies) + 1 / 2 * (np.sum(false_alarms) + anomalies.size - np.sum(anomalies)))\n",
    "print(f1_score)"
   ]
  }
 ],
 "metadata": {
  "kernelspec": {
   "display_name": "Python 3",
   "language": "python",
   "name": "python3"
  },
  "language_info": {
   "codemirror_mode": {
    "name": "ipython",
    "version": 3
   },
   "file_extension": ".py",
   "mimetype": "text/x-python",
   "name": "python",
   "nbconvert_exporter": "python",
   "pygments_lexer": "ipython3",
   "version": "3.8.3"
  }
 },
 "nbformat": 4,
 "nbformat_minor": 4
}
